{
 "cells": [
  {
   "cell_type": "markdown",
   "id": "038a059e-5bf8-4cfc-a811-f05517c00a55",
   "metadata": {},
   "source": [
    "# Cows per capita (per state)\n",
    "\n",
    "On a [recent episode of 3 Minute Review](https://podcasters.spotify.com/pod/show/3minreview/episodes/Day-139-Alaska-Milch-e29esui), Mike wondered if Alaska had the highest cow-to-person ratio of any state (owing to there being relatively few people in Alaska).\n",
    "\n",
    "Here, we try to answer that question."
   ]
  },
  {
   "cell_type": "code",
   "execution_count": 1,
   "id": "805894d0-67cf-4637-b27d-1933f16140a1",
   "metadata": {},
   "outputs": [
    {
     "data": {
      "text/plain": [
       "True"
      ]
     },
     "execution_count": 1,
     "metadata": {},
     "output_type": "execute_result"
    }
   ],
   "source": [
    "import os\n",
    "import requests\n",
    "\n",
    "from dotenv import load_dotenv\n",
    "load_dotenv()"
   ]
  },
  {
   "cell_type": "markdown",
   "id": "2d44a12b-08f4-49bf-9a5e-ce913e608d6c",
   "metadata": {},
   "source": [
    "## 1. Number of cows\n",
    "\n",
    "The USDA has an API for data from the [National Agriculture Statistics Service](https://quickstats.nass.usda.gov/api/)"
   ]
  },
  {
   "cell_type": "code",
   "execution_count": 2,
   "id": "8bb5bafe-2711-4c9b-a785-b5da9aa6c70c",
   "metadata": {},
   "outputs": [],
   "source": [
    "USDA_API_KEY = os.environ.get('USDA_API_KEY')"
   ]
  },
  {
   "cell_type": "code",
   "execution_count": 3,
   "id": "5e04f9b6-2df8-4c1e-993a-7639bf8b7f69",
   "metadata": {},
   "outputs": [],
   "source": [
    "USDA_URL = f\"https://quickstats.nass.usda.gov/api/api_GET/?key={USDA_API_KEY}&source_desc=SURVEY&year=2021&commodity_desc=CATTLE&short_desc=CATTLE, INCL CALVES - INVENTORY&statisticcat_desc=INVENTORY&domain_desc=TOTAL&agg_level_desc=STATE&format=JSON\""
   ]
  },
  {
   "cell_type": "code",
   "execution_count": 4,
   "id": "91fb724f-a475-4f6b-a09b-3edc8028c6a0",
   "metadata": {},
   "outputs": [],
   "source": [
    "cattle_req = requests.get(USDA_URL)\n",
    "cattle = [[x['Value'], x['location_desc'], x['state_fips_code']] for x in cattle_req.json()['data']]"
   ]
  },
  {
   "cell_type": "code",
   "execution_count": 5,
   "id": "0d8f3a49-15df-44dc-b2ed-08d32c36f8cc",
   "metadata": {},
   "outputs": [
    {
     "data": {
      "text/plain": [
       "[['1,295,000', 'ALABAMA', '01'],\n",
       " ['17,000', 'ALASKA', '02'],\n",
       " ['980,000', 'ARIZONA', '04'],\n",
       " ['1,780,000', 'ARKANSAS', '05'],\n",
       " ['5,150,000', 'CALIFORNIA', '06'],\n",
       " ['2,700,000', 'COLORADO', '08'],\n",
       " ['47,000', 'CONNECTICUT', '09'],\n",
       " ['13,000', 'DELAWARE', '10'],\n",
       " ['1,700,000', 'FLORIDA', '12'],\n",
       " ['1,090,000', 'GEORGIA', '13'],\n",
       " ['142,000', 'HAWAII', '15'],\n",
       " ['2,500,000', 'IDAHO', '16'],\n",
       " ['1,050,000', 'ILLINOIS', '17'],\n",
       " ['850,000', 'INDIANA', '18'],\n",
       " ['3,700,000', 'IOWA', '19'],\n",
       " ['6,550,000', 'KANSAS', '20'],\n",
       " ['2,090,000', 'KENTUCKY', '21'],\n",
       " ['775,000', 'LOUISIANA', '22'],\n",
       " ['76,000', 'MAINE', '23'],\n",
       " ['177,000', 'MARYLAND', '24'],\n",
       " ['37,000', 'MASSACHUSETTS', '25'],\n",
       " ['1,140,000', 'MICHIGAN', '26'],\n",
       " ['2,150,000', 'MINNESOTA', '27'],\n",
       " ['920,000', 'MISSISSIPPI', '28'],\n",
       " ['4,310,000', 'MISSOURI', '29'],\n",
       " ['2,450,000', 'MONTANA', '30'],\n",
       " ['6,850,000', 'NEBRASKA', '31'],\n",
       " ['470,000', 'NEVADA', '32'],\n",
       " ['32,000', 'NEW HAMPSHIRE', '33'],\n",
       " ['25,000', 'NEW JERSEY', '34'],\n",
       " ['1,390,000', 'NEW MEXICO', '35'],\n",
       " ['1,420,000', 'NEW YORK', '36'],\n",
       " ['800,000', 'NORTH CAROLINA', '37'],\n",
       " ['1,950,000', 'NORTH DAKOTA', '38'],\n",
       " ['1,260,000', 'OHIO', '39'],\n",
       " ['5,300,000', 'OKLAHOMA', '40'],\n",
       " ['1,250,000', 'OREGON', '41'],\n",
       " ['1,430,000', 'PENNSYLVANIA', '42'],\n",
       " ['3,500', 'RHODE ISLAND', '44'],\n",
       " ['330,000', 'SOUTH CAROLINA', '45'],\n",
       " ['4,000,000', 'SOUTH DAKOTA', '46'],\n",
       " ['1,790,000', 'TENNESSEE', '47'],\n",
       " ['13,100,000', 'TEXAS', '48'],\n",
       " ['800,000', 'UTAH', '49'],\n",
       " ['245,000', 'VERMONT', '50'],\n",
       " ['1,390,000', 'VIRGINIA', '51'],\n",
       " ['1,140,000', 'WASHINGTON', '53'],\n",
       " ['375,000', 'WEST VIRGINIA', '54'],\n",
       " ['3,450,000', 'WISCONSIN', '55'],\n",
       " ['1,300,000', 'WYOMING', '56']]"
      ]
     },
     "execution_count": 5,
     "metadata": {},
     "output_type": "execute_result"
    }
   ],
   "source": [
    "cattle"
   ]
  },
  {
   "cell_type": "markdown",
   "id": "d9662367-acb6-46af-bd21-8f717d877f3e",
   "metadata": {},
   "source": [
    "## Population\n",
    "\n",
    "The Census Bureau has an API for its ACS data. We used 2021 data for cows, so we want 2021 data for population."
   ]
  },
  {
   "cell_type": "code",
   "execution_count": 6,
   "id": "9501d70d-fb0b-4f8e-97bb-36de8acf6bee",
   "metadata": {},
   "outputs": [],
   "source": [
    "CENSUS_URL = \"https://api.census.gov/data/2021/acs/acs5/spt?get=B01001_001E,NAME&for=state:*\""
   ]
  },
  {
   "cell_type": "code",
   "execution_count": 7,
   "id": "c4a0c764-62ed-4b68-9124-388988cc871a",
   "metadata": {},
   "outputs": [],
   "source": [
    "pop_req = requests.get(CENSUS_URL)"
   ]
  },
  {
   "cell_type": "code",
   "execution_count": 8,
   "id": "fbc7f7cb-9eb0-4a17-a7d3-7abd32545af0",
   "metadata": {},
   "outputs": [],
   "source": [
    "pop = pop_req.json()"
   ]
  },
  {
   "cell_type": "code",
   "execution_count": 9,
   "id": "f6bc678e-75bf-4809-b70f-38e78d8d0d74",
   "metadata": {},
   "outputs": [
    {
     "data": {
      "text/plain": [
       "[['B01001_001E', 'NAME', 'state'],\n",
       " ['4997675', 'Alabama', '01'],\n",
       " ['735951', 'Alaska', '02'],\n",
       " ['7079203', 'Arizona', '04'],\n",
       " ['6751340', 'Indiana', '18'],\n",
       " ['3006309', 'Arkansas', '05'],\n",
       " ['39455353', 'California', '06'],\n",
       " ['5723176', 'Colorado', '08'],\n",
       " ['3605330', 'Connecticut', '09'],\n",
       " ['981892', 'Delaware', '10'],\n",
       " ['683154', 'District of Columbia', '11'],\n",
       " ['21339762', 'Florida', '12'],\n",
       " ['10625615', 'Georgia', '13'],\n",
       " ['1453498', 'Hawaii', '15'],\n",
       " ['1811617', 'Idaho', '16'],\n",
       " ['12821813', 'Illinois', '17'],\n",
       " ['3179090', 'Iowa', '19'],\n",
       " ['2932099', 'Kansas', '20'],\n",
       " ['4494141', 'Kentucky', '21'],\n",
       " ['6141534', 'Missouri', '29'],\n",
       " ['6148545', 'Maryland', '24'],\n",
       " ['4657305', 'Louisiana', '22'],\n",
       " ['1357046', 'Maine', '23'],\n",
       " ['6991852', 'Massachusetts', '25'],\n",
       " ['10062512', 'Michigan', '26'],\n",
       " ['5670472', 'Minnesota', '27'],\n",
       " ['2967023', 'Mississippi', '28'],\n",
       " ['1077978', 'Montana', '30'],\n",
       " ['1951480', 'Nebraska', '31'],\n",
       " ['3059238', 'Nevada', '32'],\n",
       " ['1372175', 'New Hampshire', '33'],\n",
       " ['9234024', 'New Jersey', '34'],\n",
       " ['2109366', 'New Mexico', '35'],\n",
       " ['20114745', 'New York', '36'],\n",
       " ['5078903', 'South Carolina', '45'],\n",
       " ['11769923', 'Ohio', '39'],\n",
       " ['10367022', 'North Carolina', '37'],\n",
       " ['773344', 'North Dakota', '38'],\n",
       " ['3948136', 'Oklahoma', '40'],\n",
       " ['4207177', 'Oregon', '41'],\n",
       " ['12970650', 'Pennsylvania', '42'],\n",
       " ['1091949', 'Rhode Island', '44'],\n",
       " ['881785', 'South Dakota', '46'],\n",
       " ['6859497', 'Tennessee', '47'],\n",
       " ['28862581', 'Texas', '48'],\n",
       " ['3231370', 'Utah', '49'],\n",
       " ['641637', 'Vermont', '50'],\n",
       " ['8582479', 'Virginia', '51'],\n",
       " ['7617364', 'Washington', '53'],\n",
       " ['3311274', 'Puerto Rico', '72'],\n",
       " ['576641', 'Wyoming', '56'],\n",
       " ['1801049', 'West Virginia', '54'],\n",
       " ['5871661', 'Wisconsin', '55']]"
      ]
     },
     "execution_count": 9,
     "metadata": {},
     "output_type": "execute_result"
    }
   ],
   "source": [
    "pop"
   ]
  },
  {
   "cell_type": "markdown",
   "id": "19706b47-b20f-40a9-8490-d9f0a536024f",
   "metadata": {},
   "source": [
    "## Combine the two"
   ]
  },
  {
   "cell_type": "code",
   "execution_count": 10,
   "id": "7ec28a32-dd3f-403c-9c1c-3d6604b2d3fd",
   "metadata": {},
   "outputs": [],
   "source": [
    "data_by_fips = {}"
   ]
  },
  {
   "cell_type": "code",
   "execution_count": 11,
   "id": "710f0b69-d316-4ff1-b58b-8b17813c833d",
   "metadata": {},
   "outputs": [],
   "source": [
    "for row in cattle:\n",
    "    count = int(row[0].replace(',',''))\n",
    "    state = row[1].title()\n",
    "    fips = row[2]\n",
    "    data_by_fips[fips] = { 'state': state, 'cattle': count }"
   ]
  },
  {
   "cell_type": "code",
   "execution_count": 12,
   "id": "79718d26-0b43-4400-b478-438411db6bb5",
   "metadata": {},
   "outputs": [],
   "source": [
    "for row in pop:\n",
    "    fips = row[2]\n",
    "    if fips in data_by_fips:\n",
    "        data_by_fips[fips]['population'] = int(row[0])"
   ]
  },
  {
   "cell_type": "code",
   "execution_count": 13,
   "id": "8330977d-3c5d-45af-ad34-9dfdfe515805",
   "metadata": {},
   "outputs": [
    {
     "data": {
      "text/plain": [
       "{'01': {'state': 'Alabama', 'cattle': 1295000, 'population': 4997675},\n",
       " '02': {'state': 'Alaska', 'cattle': 17000, 'population': 735951},\n",
       " '04': {'state': 'Arizona', 'cattle': 980000, 'population': 7079203},\n",
       " '05': {'state': 'Arkansas', 'cattle': 1780000, 'population': 3006309},\n",
       " '06': {'state': 'California', 'cattle': 5150000, 'population': 39455353},\n",
       " '08': {'state': 'Colorado', 'cattle': 2700000, 'population': 5723176},\n",
       " '09': {'state': 'Connecticut', 'cattle': 47000, 'population': 3605330},\n",
       " '10': {'state': 'Delaware', 'cattle': 13000, 'population': 981892},\n",
       " '12': {'state': 'Florida', 'cattle': 1700000, 'population': 21339762},\n",
       " '13': {'state': 'Georgia', 'cattle': 1090000, 'population': 10625615},\n",
       " '15': {'state': 'Hawaii', 'cattle': 142000, 'population': 1453498},\n",
       " '16': {'state': 'Idaho', 'cattle': 2500000, 'population': 1811617},\n",
       " '17': {'state': 'Illinois', 'cattle': 1050000, 'population': 12821813},\n",
       " '18': {'state': 'Indiana', 'cattle': 850000, 'population': 6751340},\n",
       " '19': {'state': 'Iowa', 'cattle': 3700000, 'population': 3179090},\n",
       " '20': {'state': 'Kansas', 'cattle': 6550000, 'population': 2932099},\n",
       " '21': {'state': 'Kentucky', 'cattle': 2090000, 'population': 4494141},\n",
       " '22': {'state': 'Louisiana', 'cattle': 775000, 'population': 4657305},\n",
       " '23': {'state': 'Maine', 'cattle': 76000, 'population': 1357046},\n",
       " '24': {'state': 'Maryland', 'cattle': 177000, 'population': 6148545},\n",
       " '25': {'state': 'Massachusetts', 'cattle': 37000, 'population': 6991852},\n",
       " '26': {'state': 'Michigan', 'cattle': 1140000, 'population': 10062512},\n",
       " '27': {'state': 'Minnesota', 'cattle': 2150000, 'population': 5670472},\n",
       " '28': {'state': 'Mississippi', 'cattle': 920000, 'population': 2967023},\n",
       " '29': {'state': 'Missouri', 'cattle': 4310000, 'population': 6141534},\n",
       " '30': {'state': 'Montana', 'cattle': 2450000, 'population': 1077978},\n",
       " '31': {'state': 'Nebraska', 'cattle': 6850000, 'population': 1951480},\n",
       " '32': {'state': 'Nevada', 'cattle': 470000, 'population': 3059238},\n",
       " '33': {'state': 'New Hampshire', 'cattle': 32000, 'population': 1372175},\n",
       " '34': {'state': 'New Jersey', 'cattle': 25000, 'population': 9234024},\n",
       " '35': {'state': 'New Mexico', 'cattle': 1390000, 'population': 2109366},\n",
       " '36': {'state': 'New York', 'cattle': 1420000, 'population': 20114745},\n",
       " '37': {'state': 'North Carolina', 'cattle': 800000, 'population': 10367022},\n",
       " '38': {'state': 'North Dakota', 'cattle': 1950000, 'population': 773344},\n",
       " '39': {'state': 'Ohio', 'cattle': 1260000, 'population': 11769923},\n",
       " '40': {'state': 'Oklahoma', 'cattle': 5300000, 'population': 3948136},\n",
       " '41': {'state': 'Oregon', 'cattle': 1250000, 'population': 4207177},\n",
       " '42': {'state': 'Pennsylvania', 'cattle': 1430000, 'population': 12970650},\n",
       " '44': {'state': 'Rhode Island', 'cattle': 3500, 'population': 1091949},\n",
       " '45': {'state': 'South Carolina', 'cattle': 330000, 'population': 5078903},\n",
       " '46': {'state': 'South Dakota', 'cattle': 4000000, 'population': 881785},\n",
       " '47': {'state': 'Tennessee', 'cattle': 1790000, 'population': 6859497},\n",
       " '48': {'state': 'Texas', 'cattle': 13100000, 'population': 28862581},\n",
       " '49': {'state': 'Utah', 'cattle': 800000, 'population': 3231370},\n",
       " '50': {'state': 'Vermont', 'cattle': 245000, 'population': 641637},\n",
       " '51': {'state': 'Virginia', 'cattle': 1390000, 'population': 8582479},\n",
       " '53': {'state': 'Washington', 'cattle': 1140000, 'population': 7617364},\n",
       " '54': {'state': 'West Virginia', 'cattle': 375000, 'population': 1801049},\n",
       " '55': {'state': 'Wisconsin', 'cattle': 3450000, 'population': 5871661},\n",
       " '56': {'state': 'Wyoming', 'cattle': 1300000, 'population': 576641}}"
      ]
     },
     "execution_count": 13,
     "metadata": {},
     "output_type": "execute_result"
    }
   ],
   "source": [
    "data_by_fips"
   ]
  },
  {
   "cell_type": "markdown",
   "id": "96211306-4d48-49cb-848e-3cad813f069c",
   "metadata": {},
   "source": [
    "## Calculate cattle-per-person and order the data"
   ]
  },
  {
   "cell_type": "code",
   "execution_count": 14,
   "id": "1290dcc5-5531-4f87-b49e-9976b1cd19a9",
   "metadata": {},
   "outputs": [],
   "source": [
    "# Convert to list of dicts\n",
    "data_list = [x for x in data_by_fips.values()]"
   ]
  },
  {
   "cell_type": "code",
   "execution_count": 15,
   "id": "b15d9c7f-b791-4a91-aac2-59ea2055469a",
   "metadata": {},
   "outputs": [],
   "source": [
    "# Calculate ratio of cows to people\n",
    "for state in data_list:\n",
    "    state['ratio'] = state['cattle'] / state['population']"
   ]
  },
  {
   "cell_type": "code",
   "execution_count": 16,
   "id": "a52aaba5-edbf-4924-ad8d-cfe8c8b8b3c0",
   "metadata": {},
   "outputs": [],
   "source": [
    "# Sort by ratio\n",
    "data_list = sorted(data_list, key=lambda i: (i['ratio']), reverse=True)"
   ]
  },
  {
   "cell_type": "code",
   "execution_count": 18,
   "id": "2b8d42b0-7208-4e08-9585-6a60f4f7ed3a",
   "metadata": {},
   "outputs": [
    {
     "name": "stdout",
     "output_type": "stream",
     "text": [
      "1. South Dakota: 4.54 cows/person\n",
      "2. Nebraska: 3.51 cows/person\n",
      "3. North Dakota: 2.52 cows/person\n",
      "4. Montana: 2.27 cows/person\n",
      "5. Wyoming: 2.25 cows/person\n",
      "6. Kansas: 2.23 cows/person\n",
      "7. Idaho: 1.38 cows/person\n",
      "8. Oklahoma: 1.34 cows/person\n",
      "9. Iowa: 1.16 cows/person\n",
      "10. Missouri: 0.70 cows/person\n",
      "11. New Mexico: 0.66 cows/person\n",
      "12. Arkansas: 0.59 cows/person\n",
      "13. Wisconsin: 0.59 cows/person\n",
      "14. Colorado: 0.47 cows/person\n",
      "15. Kentucky: 0.47 cows/person\n",
      "16. Texas: 0.45 cows/person\n",
      "17. Vermont: 0.38 cows/person\n",
      "18. Minnesota: 0.38 cows/person\n",
      "19. Mississippi: 0.31 cows/person\n",
      "20. Oregon: 0.30 cows/person\n",
      "21. Tennessee: 0.26 cows/person\n",
      "22. Alabama: 0.26 cows/person\n",
      "23. Utah: 0.25 cows/person\n",
      "24. West Virginia: 0.21 cows/person\n",
      "25. Louisiana: 0.17 cows/person\n",
      "26. Virginia: 0.16 cows/person\n",
      "27. Nevada: 0.15 cows/person\n",
      "28. Washington: 0.15 cows/person\n",
      "29. Arizona: 0.14 cows/person\n",
      "30. California: 0.13 cows/person\n",
      "31. Indiana: 0.13 cows/person\n",
      "32. Michigan: 0.11 cows/person\n",
      "33. Pennsylvania: 0.11 cows/person\n",
      "34. Ohio: 0.11 cows/person\n",
      "35. Georgia: 0.10 cows/person\n",
      "36. Hawaii: 0.10 cows/person\n",
      "37. Illinois: 0.08 cows/person\n",
      "38. Florida: 0.08 cows/person\n",
      "39. North Carolina: 0.08 cows/person\n",
      "40. New York: 0.07 cows/person\n",
      "41. South Carolina: 0.06 cows/person\n",
      "42. Maine: 0.06 cows/person\n",
      "43. Maryland: 0.03 cows/person\n",
      "44. New Hampshire: 0.02 cows/person\n",
      "45. Alaska: 0.02 cows/person\n",
      "46. Delaware: 0.01 cows/person\n",
      "47. Connecticut: 0.01 cows/person\n",
      "48. Massachusetts: 0.01 cows/person\n",
      "49. Rhode Island: 0.00 cows/person\n",
      "50. New Jersey: 0.00 cows/person\n"
     ]
    }
   ],
   "source": [
    "for index, item in enumerate(data_list, 1):\n",
    "    print(f\"{index}. {item['state']}: {item['ratio']:.2f} cows/person\")"
   ]
  },
  {
   "cell_type": "code",
   "execution_count": null,
   "id": "f1c75593-b2d3-4cc3-a666-f42380dd583e",
   "metadata": {},
   "outputs": [],
   "source": []
  }
 ],
 "metadata": {
  "kernelspec": {
   "display_name": "Python 3 (ipykernel)",
   "language": "python",
   "name": "python3"
  },
  "language_info": {
   "codemirror_mode": {
    "name": "ipython",
    "version": 3
   },
   "file_extension": ".py",
   "mimetype": "text/x-python",
   "name": "python",
   "nbconvert_exporter": "python",
   "pygments_lexer": "ipython3",
   "version": "3.11.5"
  }
 },
 "nbformat": 4,
 "nbformat_minor": 5
}
